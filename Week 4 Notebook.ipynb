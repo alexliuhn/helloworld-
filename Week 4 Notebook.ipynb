{
    "cells": [
        {
            "cell_type": "markdown",
            "metadata": {},
            "source": "# *Battle of neighbourhoods*"
        },
        {
            "cell_type": "markdown",
            "metadata": {},
            "source": "## Business Background\n\nAn international hotel chain (\"IHC\") is looking to set up a new hotel in Singapore. This is its first physical establishment in the Asian island country. In the planning phase, the management has considered two potential locations, namely, Sentosa Island or Marina Bay Area. Sentosa is a resort island located at the south of Singapore and connected to the main island via a bridge. This island is mostly frequented by families on holiday. Marina Bay Area is the central business district of the city and it is also closely located to many other attractions in the city. \n\nThe primary customer group for IHC are tourists looking for leisure activities as well as new experiences in difference countries. IHC is also one of the world's premium hotel brands which all of its properties rated five stars. Therefore, one of the main consideration of for the location is its proximirty to attarctions nearby. Given Singapore is a small island nation and both locations are easily accessible, the management has approached us to determine which location would be a better option to set up IHC's first Hotel in Singapore."
        },
        {
            "cell_type": "markdown",
            "metadata": {},
            "source": "## Date requirements"
        },
        {
            "cell_type": "markdown",
            "metadata": {},
            "source": "**1. GPS coordinates of the 2 locations for consideration.**\nThese coordinates forms the basis of our analysis and provide geographical location in our model\n\n**2. Number of attractions within 2km radius**\nThis data provide us information on how close the hotel will be to attractions in the country. The higher the number, the better the location.\n\n**3. Number of restaurants within 2km radius**\nThis data provide us information on the number of restaurants. As IHC's customers are mainly tourists, dining out is an important part of leisure travel and it is better that the hotel is conveniently located within proximity of good restaurants.\n\n**4. Number of bars/clubs within 2km radius**\nThis data provide us information on the number of bars. As IHC's customers are mainly tourists seeking new experiences, a vibrant night life is an important part of leisure travel and it is better that the hotel is conveniently located within proximity of such establishments.\n\n**5. Number of other 5 stars hotels within 2km radius**\nThis data shows the intensity of competition within the selected location. If there are more 5 stars hotels in the location, it indicates that IHC will face tougher competition in the location and thus, making the locating less preferable"
        },
        {
            "cell_type": "markdown",
            "metadata": {},
            "source": "## How data will be used\n\nData number 1 will be used as the basis location to retrieve information on Foursquare.com\nData number 2 to 4 carries positive values and will be used as a summation of scores. Data number 5 carries negative scores and will be added to the summation of data numner 1 to 4. The total score of both location will be compared side by side. Location with higher score will be selected as the preferred choice."
        },
        {
            "cell_type": "code",
            "execution_count": null,
            "metadata": {},
            "outputs": [],
            "source": ""
        }
    ],
    "metadata": {
        "kernelspec": {
            "display_name": "Python 3.6",
            "language": "python",
            "name": "python3"
        },
        "language_info": {
            "codemirror_mode": {
                "name": "ipython",
                "version": 3
            },
            "file_extension": ".py",
            "mimetype": "text/x-python",
            "name": "python",
            "nbconvert_exporter": "python",
            "pygments_lexer": "ipython3",
            "version": "3.6.9"
        }
    },
    "nbformat": 4,
    "nbformat_minor": 1
}